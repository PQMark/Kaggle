{
 "cells": [
  {
   "cell_type": "code",
   "execution_count": 1,
   "metadata": {},
   "outputs": [
    {
     "name": "stdout",
     "output_type": "stream",
     "text": [
      "Device:  cuda\n"
     ]
    }
   ],
   "source": [
    "import importlib\n",
    "\n",
    "import scripts.data_prep\n",
    "import scripts.trainer\n",
    "import scripts.train\n",
    "import scripts.verification\n",
    "import models.ResNeXt\n",
    "import scripts.visual_pics\n",
    "importlib.reload(scripts.visual_pics) \n",
    "importlib.reload(models.ResNeXt) \n",
    "importlib.reload(scripts.verification) \n",
    "importlib.reload(scripts.data_prep) \n",
    "importlib.reload(scripts.trainer) \n",
    "importlib.reload(scripts.train) \n",
    "\n",
    "from scripts.verification import valid_epoch_ver\n",
    "from scripts.test import test_epoch_ver\n",
    "from scripts.data_prep import create_transforms, ImageDataset, ImagePairDataset\n",
    "from scripts.trainer import Trainer\n",
    "from scripts.visual_pics import show_cls_dataset_samples, show_ver_dataset_samples\n",
    "from scripts.train import train_epoch\n",
    "from models.ResNeXt import ResNeXt, initialize_weights\n",
    "from customs.arcface_loss import Arcface\n",
    "from models.temp import Network\n",
    "\n",
    "import torch\n",
    "import torch.nn as nn\n",
    "from torchsummary import summary\n",
    "import torchvision\n",
    "from torchvision.utils import make_grid\n",
    "from torchvision import transforms\n",
    "import torchvision.transforms.v2 as T\n",
    "from torch.utils.data import DataLoader\n",
    "import torch.nn.functional as F\n",
    "import os\n",
    "import gc\n",
    "from tqdm import tqdm\n",
    "from PIL import Image\n",
    "import numpy as np\n",
    "import pandas as pd\n",
    "from sklearn.metrics import accuracy_score\n",
    "from sklearn import metrics as mt\n",
    "from scipy.optimize import brentq\n",
    "from scipy.interpolate import interp1d\n",
    "import glob\n",
    "import wandb\n",
    "import matplotlib.pyplot as plt\n",
    "from pytorch_metric_learning import samplers\n",
    "import csv\n",
    "\n",
    "DEVICE = 'cuda' if torch.cuda.is_available() else 'mps'\n",
    "print(\"Device: \", DEVICE)"
   ]
  },
  {
   "cell_type": "code",
   "execution_count": 19,
   "metadata": {},
   "outputs": [],
   "source": [
    "config = {\n",
    "    'batch_size': 256, # Increase this if your GPU can handle it\n",
    "    'lr': 0.005,\n",
    "    'epochs': 50, # 20 epochs is recommended ONLY for the early submission - you will have to train for much longer typically.\n",
    "    'num_classes': 8631, #Dataset contains 8631 classes for classification, reduce this number if you want to train on a subset, but only for train dataset and not on val dataset\n",
    "    'augument': True, \n",
    "    \"patience\": 40, \n",
    "    \"save_every\": 2, \n",
    "    \"weight_decay\": 1e-5,    # 1e-5 for run4. \n",
    "    \"logits\": \"raw\", \n",
    "    \"note\": \"[(3, 64, 128), (3, 128, 256), (2, 1024, 2048)]\"\n",
    "}\n",
    "\n",
    "def clean_cache(device):\n",
    "    if device == \"mps\":\n",
    "        torch.mps.empty_cache()\n",
    "    elif device == \"cuda\":\n",
    "        torch.cuda.empty_cache()"
   ]
  },
  {
   "cell_type": "code",
   "execution_count": 3,
   "metadata": {},
   "outputs": [
    {
     "name": "stderr",
     "output_type": "stream",
     "text": [
      "/root/miniconda3/envs/py311/lib/python3.11/site-packages/torchvision/transforms/v2/_deprecated.py:42: UserWarning: The transform `ToTensor()` is deprecated and will be removed in a future release. Instead, please use `v2.Compose([v2.ToImage(), v2.ToDtype(torch.float32, scale=True)])`.Output is equivalent up to float precision.\n",
      "  warnings.warn(\n",
      "Loading dataset:   0%|          | 0/431550 [00:00<?, ?it/s]"
     ]
    },
    {
     "name": "stderr",
     "output_type": "stream",
     "text": [
      "Loading dataset: 100%|██████████| 431550/431550 [00:00<00:00, 757670.10it/s]\n",
      "Loading dataset: 100%|██████████| 43155/43155 [00:00<00:00, 785442.35it/s]\n",
      "Loading dataset: 100%|██████████| 43155/43155 [00:00<00:00, 765068.20it/s]\n"
     ]
    }
   ],
   "source": [
    "# Prepare Data for Classification\n",
    "\n",
    "num_workers = 10\n",
    "\n",
    "train_transforms = create_transforms(augment=config['augument'])\n",
    "val_transforms   = create_transforms(augment=False)\n",
    "\n",
    "cls_train_dataset = ImageDataset(root=\"../autodl-tmp/data/HW2p2_S25/cls_data/train\", transform=train_transforms)\n",
    "cls_val_dataset   = ImageDataset(root=\"../autodl-tmp/data/HW2p2_S25/cls_data/dev\", transform=val_transforms)\n",
    "cls_test_dataset  = ImageDataset(root=\"../autodl-tmp/data/HW2p2_S25/cls_data/test\", transform=val_transforms)\n",
    "\n",
    "assert cls_train_dataset.classes == cls_val_dataset.classes == cls_test_dataset.classes, \"Class mismatch!\"\n",
    "\n",
    "# Dataloaders\n",
    "cls_train_loader = DataLoader(cls_train_dataset, batch_size=config['batch_size'], shuffle=True,  num_workers=num_workers, pin_memory=True)\n",
    "cls_val_loader   = DataLoader(cls_val_dataset,   batch_size=config['batch_size'], shuffle=False, num_workers=num_workers, pin_memory=True)\n",
    "cls_test_loader  = DataLoader(cls_test_dataset,  batch_size=config['batch_size'], shuffle=False, num_workers=num_workers, pin_memory=True)"
   ]
  },
  {
   "cell_type": "code",
   "execution_count": 4,
   "metadata": {},
   "outputs": [
    {
     "name": "stderr",
     "output_type": "stream",
     "text": [
      "Loading image pairs: 100%|██████████| 1000/1000 [00:00<00:00, 2259.38it/s]\n",
      "Loading image pairs: 100%|██████████| 6000/6000 [00:02<00:00, 2439.61it/s]\n"
     ]
    }
   ],
   "source": [
    "# Prepare Data for Verificatin \n",
    "\n",
    "num_workers = 8\n",
    "\n",
    "# Datasets\n",
    "ver_val_dataset  = ImagePairDataset(root=\"../autodl-tmp/data/HW2p2_S25/ver_data\", pairs_file=\"../autodl-tmp/data/HW2p2_S25/val_pairs.txt\", transform=create_transforms(augment=False))\n",
    "ver_test_dataset = ImagePairDataset(root=\"../autodl-tmp/data/HW2p2_S25/ver_data\", pairs_file=\"../autodl-tmp/data/HW2p2_S25/test_pairs.txt\", transform=create_transforms(augment=False), test=True)\n",
    "\n",
    "# Dataloader\n",
    "ver_val_loader   = DataLoader(ver_val_dataset,  batch_size=config['batch_size'], shuffle=False, num_workers=num_workers, pin_memory=True) # 8\n",
    "ver_test_loader  = DataLoader(ver_test_dataset, batch_size=config['batch_size'], shuffle=False, num_workers=num_workers, pin_memory=True) # 8"
   ]
  },
  {
   "cell_type": "code",
   "execution_count": 5,
   "metadata": {},
   "outputs": [
    {
     "name": "stdout",
     "output_type": "stream",
     "text": [
      "Number of classes    :  8631\n",
      "No. of train images  :  431550\n",
      "Shape of image       :  torch.Size([3, 112, 112])\n",
      "Batch size           :  256\n",
      "Train batches        :  1686\n",
      "Val batches          :  169\n",
      "batches = 1686\n"
     ]
    }
   ],
   "source": [
    "# Double-check dataset/dataloaders work as expected\n",
    "print(\"Number of classes    : \", len(cls_train_dataset.classes))\n",
    "print(\"No. of train images  : \", cls_train_dataset.__len__())\n",
    "print(\"Shape of image       : \", cls_train_dataset[0][0].shape)\n",
    "print(\"Batch size           : \", config['batch_size'])\n",
    "print(\"Train batches        : \", cls_train_loader.__len__())\n",
    "print(\"Val batches          : \", cls_val_loader.__len__())\n",
    "\n",
    "print(\"batches = {}\".format(len(cls_train_loader)))"
   ]
  },
  {
   "cell_type": "code",
   "execution_count": null,
   "metadata": {},
   "outputs": [],
   "source": [
    "show_cls_dataset_samples(cls_train_loader, cls_val_loader, cls_test_loader)"
   ]
  },
  {
   "cell_type": "code",
   "execution_count": null,
   "metadata": {},
   "outputs": [],
   "source": [
    "show_ver_dataset_samples(ver_val_loader)"
   ]
  },
  {
   "cell_type": "code",
   "execution_count": 20,
   "metadata": {},
   "outputs": [],
   "source": [
    "# Load Model\n",
    "\n",
    "# 47: [(3, 64, 128), (4, 128, 256), (6, 256, 512), (2, 1024, 2048)]\n",
    "# 49: [(3, 64, 64), (4, 64, 96), (6, 96, 192), (3, 192, 384)]\n",
    "\n",
    "ResNeXt47 = ResNeXt(params=[(3, 64, 128), (3, 128, 256), (2, 1024, 2048)],\n",
    "                            cardinality=32, \n",
    "                            num_classes=8631, DEVICE=DEVICE, \n",
    "                            cosine_similarity=(config[\"logits\"] == \"cosine\")).to(DEVICE)\n",
    "model = ResNeXt47\n",
    "\n",
    "# model = Network(config[\"num_classes\"])\n",
    "model_name = \"ResNeXt\""
   ]
  },
  {
   "cell_type": "code",
   "execution_count": 21,
   "metadata": {},
   "outputs": [
    {
     "name": "stdout",
     "output_type": "stream",
     "text": [
      "torch.Size([256, 3, 112, 112])\n"
     ]
    }
   ],
   "source": [
    "clean_cache(DEVICE)\n",
    "inputs, _ = next(iter(cls_train_loader))\n",
    "model.apply_init(inputs.to(DEVICE), initialize_weights)\n",
    "# model.apply(initialize_weights)\n",
    "\n",
    "print(inputs.shape)\n",
    "\n",
    "criterion = torch.nn.CrossEntropyLoss(label_smoothing=0.1)\n",
    "# criterion = Arcface()\n",
    "\n",
    "optimizer = torch.optim.Adam(model.parameters(), lr=config[\"lr\"], weight_decay=config[\"weight_decay\"])\n",
    "# optimizer = torch.optim.AdamW(model.parameters(), lr=config[\"lr\"], weight_decay=config[\"weight_decay\"])\n",
    "\n",
    "\n",
    "scheduler = torch.optim.lr_scheduler.OneCycleLR(\n",
    "    optimizer,\n",
    "    max_lr=config[\"lr\"], \n",
    "    total_steps = config[\"epochs\"] * len(cls_train_loader), \n",
    "    pct_start = 0.1, # 0.15\n",
    "    anneal_strategy=\"cos\", \n",
    "    final_div_factor=1     # 0.0001\n",
    ")\n",
    "\n",
    "scaler = torch.amp.GradScaler('cuda', enabled=True) if DEVICE == \"cuda\" else None\n",
    "clean_cache(DEVICE)\n",
    "gc.collect()\n",
    "\n",
    "start=0\n",
    "best_val_acc = 0"
   ]
  },
  {
   "cell_type": "code",
   "execution_count": 8,
   "metadata": {},
   "outputs": [
    {
     "name": "stderr",
     "output_type": "stream",
     "text": [
      "\u001b[34m\u001b[1mwandb\u001b[0m: \u001b[33mWARNING\u001b[0m If you're specifying your api key in code, ensure this code is not shared publicly.\n",
      "\u001b[34m\u001b[1mwandb\u001b[0m: \u001b[33mWARNING\u001b[0m Consider setting the WANDB_API_KEY environment variable, or running `wandb login` from the command line.\n",
      "\u001b[34m\u001b[1mwandb\u001b[0m: Appending key for api.wandb.ai to your netrc file: /root/.netrc\n",
      "\u001b[34m\u001b[1mwandb\u001b[0m: Currently logged in as: \u001b[33mpeng_qiu\u001b[0m (\u001b[33m11785-DL\u001b[0m) to \u001b[32mhttps://api.wandb.ai\u001b[0m. Use \u001b[1m`wandb login --relogin`\u001b[0m to force relogin\n"
     ]
    },
    {
     "data": {
      "text/plain": [
       "True"
      ]
     },
     "execution_count": 8,
     "metadata": {},
     "output_type": "execute_result"
    }
   ],
   "source": [
    "# wandb login \n",
    "wandb.login(key=\"232fdceeae8cfc797a73cea836fb0c4a6199a7ae\")"
   ]
  },
  {
   "cell_type": "code",
   "execution_count": null,
   "metadata": {},
   "outputs": [],
   "source": [
    "# For test\n",
    "wandb.unwatch(model)\n",
    "test_Trainer = Trainer(config[\"epochs\"], criterion, optimizer, scheduler,\n",
    "                       config[\"patience\"], config[\"save_every\"], model_name, device=DEVICE, scaler=scaler)\n",
    "test_Trainer.fit(model, cls_train_loader, cls_val_loader, ver_val_loader, log_epoch=False, log_batch=False, save_best=False,\n",
    "                 checkpoints=False)"
   ]
  },
  {
   "cell_type": "code",
   "execution_count": 22,
   "metadata": {},
   "outputs": [],
   "source": [
    "name = f\"{model_name}_ablation_3\""
   ]
  },
  {
   "cell_type": "code",
   "execution_count": 23,
   "metadata": {},
   "outputs": [
    {
     "data": {
      "text/html": [],
      "text/plain": [
       "<IPython.core.display.HTML object>"
      ]
     },
     "metadata": {},
     "output_type": "display_data"
    },
    {
     "data": {
      "text/html": [
       "<br>    <style><br>        .wandb-row {<br>            display: flex;<br>            flex-direction: row;<br>            flex-wrap: wrap;<br>            justify-content: flex-start;<br>            width: 100%;<br>        }<br>        .wandb-col {<br>            display: flex;<br>            flex-direction: column;<br>            flex-basis: 100%;<br>            flex: 1;<br>            padding: 10px;<br>        }<br>    </style><br><div class=\"wandb-row\"><div class=\"wandb-col\"><h3>Run history:</h3><br/><table class=\"wandb\"><tr><td>batch</td><td>▇▇▂█▃▇▃█▂▃▃▂▄▃█▃▇▂▂▅▆▆▂▅▇▅▄▆▇▅▅▆▂▂█▇▇▁▁█</td></tr><tr><td>batch_acc</td><td>▁▁▁▅▅▆▆▆▆▇▇▇▇▇▇▇████████████████████████</td></tr><tr><td>batch_loss</td><td>██▆▃▂▂▂▂▂▂▁▁▁▁▁▁▁▁▁▁▁▁▁▁▁▁▁▁▁▁▁▁▁▁▁▁▁▁▁▁</td></tr><tr><td>lr</td><td>▁▁▁▁▁▁▁▁▁▁▁▁▁▁▁▁▁▁▁▁▁▁▁▁▁▁▁▁▁▁▁▁▁▁▁▁▁▁▁▁</td></tr><tr><td>train_cls_acc</td><td>▁▁▂▃▄▆▆▆▇▇▇▇▇▇██████████████████████████</td></tr><tr><td>train_loss</td><td>█▇▅▄▃▃▂▂▂▂▂▂▂▁▁▁▁▁▁▁▁▁▁▁▁▁▁▁▁▁▁▁▁▁▁▁▁▁▁▁</td></tr><tr><td>valid_cls_acc</td><td>▁▁▃▄▅▆▇▇▇▇▇▇▇▇▇█████████████████████████</td></tr><tr><td>valid_loss</td><td>█▆▄▃▂▂▂▂▂▁▁▁▁▁▁▁▁▁▁▁▁▁▁▁▁▁▁▁▁▁▁▁▁▁▁▁▁▁▁▁</td></tr><tr><td>valid_ret_acc</td><td>▁▆▇▇█▇▇█████████████████████████████████</td></tr></table><br/></div><div class=\"wandb-col\"><h3>Run summary:</h3><br/><table class=\"wandb\"><tr><td>batch</td><td>1680</td></tr><tr><td>batch_acc</td><td>98.82812</td></tr><tr><td>batch_loss</td><td>1.46229</td></tr><tr><td>lr</td><td>0.0002</td></tr><tr><td>train_cls_acc</td><td>99.42464</td></tr><tr><td>train_loss</td><td>1.4641</td></tr><tr><td>valid_cls_acc</td><td>83.30358</td></tr><tr><td>valid_loss</td><td>2.33937</td></tr><tr><td>valid_ret_acc</td><td>95.8</td></tr></table><br/></div></div>"
      ],
      "text/plain": [
       "<IPython.core.display.HTML object>"
      ]
     },
     "metadata": {},
     "output_type": "display_data"
    },
    {
     "data": {
      "text/html": [
       " View run <strong style=\"color:#cdcd00\">ResNeXt_ablation_2</strong> at: <a href='https://wandb.ai/11785-DL/HW2P2/runs/knlt4m8s' target=\"_blank\">https://wandb.ai/11785-DL/HW2P2/runs/knlt4m8s</a><br> View project at: <a href='https://wandb.ai/11785-DL/HW2P2' target=\"_blank\">https://wandb.ai/11785-DL/HW2P2</a><br>Synced 5 W&B file(s), 0 media file(s), 0 artifact file(s) and 0 other file(s)"
      ],
      "text/plain": [
       "<IPython.core.display.HTML object>"
      ]
     },
     "metadata": {},
     "output_type": "display_data"
    },
    {
     "data": {
      "text/html": [
       "Find logs at: <code>./wandb/run-20250317_065911-knlt4m8s/logs</code>"
      ],
      "text/plain": [
       "<IPython.core.display.HTML object>"
      ]
     },
     "metadata": {},
     "output_type": "display_data"
    },
    {
     "data": {
      "text/html": [
       "Tracking run with wandb version 0.19.6"
      ],
      "text/plain": [
       "<IPython.core.display.HTML object>"
      ]
     },
     "metadata": {},
     "output_type": "display_data"
    },
    {
     "data": {
      "text/html": [
       "Run data is saved locally in <code>/root/kaggle_face/wandb/run-20250317_091424-e34zzwkp</code>"
      ],
      "text/plain": [
       "<IPython.core.display.HTML object>"
      ]
     },
     "metadata": {},
     "output_type": "display_data"
    },
    {
     "data": {
      "text/html": [
       "Syncing run <strong><a href='https://wandb.ai/11785-DL/HW2P2/runs/e34zzwkp' target=\"_blank\">ResNeXt_ablation_3</a></strong> to <a href='https://wandb.ai/11785-DL/HW2P2' target=\"_blank\">Weights & Biases</a> (<a href='https://wandb.me/developer-guide' target=\"_blank\">docs</a>)<br>"
      ],
      "text/plain": [
       "<IPython.core.display.HTML object>"
      ]
     },
     "metadata": {},
     "output_type": "display_data"
    },
    {
     "data": {
      "text/html": [
       " View project at <a href='https://wandb.ai/11785-DL/HW2P2' target=\"_blank\">https://wandb.ai/11785-DL/HW2P2</a>"
      ],
      "text/plain": [
       "<IPython.core.display.HTML object>"
      ]
     },
     "metadata": {},
     "output_type": "display_data"
    },
    {
     "data": {
      "text/html": [
       " View run at <a href='https://wandb.ai/11785-DL/HW2P2/runs/e34zzwkp' target=\"_blank\">https://wandb.ai/11785-DL/HW2P2/runs/e34zzwkp</a>"
      ],
      "text/plain": [
       "<IPython.core.display.HTML object>"
      ]
     },
     "metadata": {},
     "output_type": "display_data"
    }
   ],
   "source": [
    "# Create wandb run\n",
    "run = wandb.init(\n",
    "    name    = name, ### set run names\n",
    "    reinit  = True, ### Allows reinitalizing runs when re-running this cell\n",
    "    #id     = \"\", ### Insert specific run id here if resuming a previous run\n",
    "    #resume = \"must\", ### need this to resume previous runs, but comment out reinit = True when using this\n",
    "    project = \"HW2P2\", ### Project name\n",
    "    group=f\"{model_name}\", \n",
    "    config=config\n",
    ")"
   ]
  },
  {
   "cell_type": "code",
   "execution_count": null,
   "metadata": {},
   "outputs": [
    {
     "name": "stdout",
     "output_type": "stream",
     "text": [
      "\n",
      "Epoch 1/50\n"
     ]
    },
    {
     "name": "stderr",
     "output_type": "stream",
     "text": [
      "Train:   0%|          | 0/1686 [00:00<?, ?it/s]"
     ]
    },
    {
     "name": "stderr",
     "output_type": "stream",
     "text": [
      "/root/kaggle_face/scripts/train.py:31: FutureWarning: `torch.cuda.amp.autocast(args...)` is deprecated. Please use `torch.amp.autocast('cuda', args...)` instead.\n",
      "  with torch.cuda.amp.autocast():  # This implements mixed precision. Thats it!\n",
      "                                                                                                                 \r"
     ]
    },
    {
     "name": "stdout",
     "output_type": "stream",
     "text": [
      "\tTrain Cls. Acc 0.0174%\tTrain Cls. Loss 9.0473\t Learning Rate 0.0002000\n",
      "\tVal Cls. Acc 0.0647%\tVal Cls. Loss 8.7463\n"
     ]
    },
    {
     "name": "stderr",
     "output_type": "stream",
     "text": [
      "                                                        \r"
     ]
    },
    {
     "name": "stdout",
     "output_type": "stream",
     "text": [
      "{'ACC': np.float64(66.8), 'EER': 34.62321792260694, 'AUC': np.float64(72.20539454783349), 'TPRs': [('TPR@FPR=1e-4', np.float64(0.40733197556008144)), ('TPR@FPR=5e-4', np.float64(0.40733197556008144)), ('TPR@FPR=1e-3', np.float64(0.40733197556008144)), ('TPR@FPR=5e-3', np.float64(0.6109979633401221)), ('TPR@FPR=5e-2', np.float64(13.64562118126273))]}\n",
      "Val Ret. Acc 66.8000%\n",
      "\n",
      "Epoch 2/50\n"
     ]
    },
    {
     "name": "stderr",
     "output_type": "stream",
     "text": [
      "Train:   0%|          | 0/1686 [00:00<?, ?it/s]/root/kaggle_face/scripts/train.py:31: FutureWarning: `torch.cuda.amp.autocast(args...)` is deprecated. Please use `torch.amp.autocast('cuda', args...)` instead.\n",
      "  with torch.cuda.amp.autocast():  # This implements mixed precision. Thats it!\n",
      "                                                                                                                 \r"
     ]
    },
    {
     "name": "stdout",
     "output_type": "stream",
     "text": [
      "\tTrain Cls. Acc 1.2352%\tTrain Cls. Loss 7.8160\t Learning Rate 0.0002000\n",
      "\tVal Cls. Acc 5.0421%\tVal Cls. Loss 6.7829\n"
     ]
    },
    {
     "name": "stderr",
     "output_type": "stream",
     "text": [
      "                                                        \r"
     ]
    },
    {
     "name": "stdout",
     "output_type": "stream",
     "text": [
      "{'ACC': np.float64(87.2), 'EER': 13.441955193482691, 'AUC': np.float64(94.43619732793425), 'TPRs': [('TPR@FPR=1e-4', np.float64(21.792260692464357)), ('TPR@FPR=5e-4', np.float64(21.792260692464357)), ('TPR@FPR=1e-3', np.float64(21.792260692464357)), ('TPR@FPR=5e-3', np.float64(42.36252545824847)), ('TPR@FPR=5e-2', np.float64(74.949083503055))]}\n",
      "Val Ret. Acc 87.2000%\n",
      "\n",
      "Epoch 3/50\n"
     ]
    },
    {
     "name": "stderr",
     "output_type": "stream",
     "text": [
      "Train:   0%|          | 0/1686 [00:00<?, ?it/s]/root/kaggle_face/scripts/train.py:31: FutureWarning: `torch.cuda.amp.autocast(args...)` is deprecated. Please use `torch.amp.autocast('cuda', args...)` instead.\n",
      "  with torch.cuda.amp.autocast():  # This implements mixed precision. Thats it!\n",
      "                                                                                                                   \r"
     ]
    },
    {
     "name": "stdout",
     "output_type": "stream",
     "text": [
      "\tTrain Cls. Acc 13.6262%\tTrain Cls. Loss 6.0194\t Learning Rate 0.0002000\n",
      "\tVal Cls. Acc 25.7121%\tVal Cls. Loss 5.2113\n"
     ]
    },
    {
     "name": "stderr",
     "output_type": "stream",
     "text": [
      "                                                        \r"
     ]
    },
    {
     "name": "stdout",
     "output_type": "stream",
     "text": [
      "{'ACC': np.float64(91.5), 'EER': 9.626719056874625, 'AUC': np.float64(96.90779812659301), 'TPRs': [('TPR@FPR=1e-4', np.float64(63.34012219959266)), ('TPR@FPR=5e-4', np.float64(63.34012219959266)), ('TPR@FPR=1e-3', np.float64(63.34012219959266)), ('TPR@FPR=5e-3', np.float64(66.59877800407332)), ('TPR@FPR=5e-2', np.float64(86.35437881873727))]}\n",
      "Val Ret. Acc 91.5000%\n",
      "\n",
      "Epoch 4/50\n"
     ]
    },
    {
     "name": "stderr",
     "output_type": "stream",
     "text": [
      "Train:   0%|          | 0/1686 [00:00<?, ?it/s]/root/kaggle_face/scripts/train.py:31: FutureWarning: `torch.cuda.amp.autocast(args...)` is deprecated. Please use `torch.amp.autocast('cuda', args...)` instead.\n",
      "  with torch.cuda.amp.autocast():  # This implements mixed precision. Thats it!\n",
      "                                                                                                                   \r"
     ]
    },
    {
     "name": "stdout",
     "output_type": "stream",
     "text": [
      "\tTrain Cls. Acc 34.6829%\tTrain Cls. Loss 4.7105\t Learning Rate 0.0002000\n",
      "\tVal Cls. Acc 42.0250%\tVal Cls. Loss 4.3411\n"
     ]
    },
    {
     "name": "stderr",
     "output_type": "stream",
     "text": [
      "                                                        \r"
     ]
    },
    {
     "name": "stdout",
     "output_type": "stream",
     "text": [
      "{'ACC': np.float64(92.2), 'EER': 8.96130346232179, 'AUC': np.float64(97.31753088000512), 'TPRs': [('TPR@FPR=1e-4', np.float64(70.06109979633402)), ('TPR@FPR=5e-4', np.float64(70.06109979633402)), ('TPR@FPR=1e-3', np.float64(70.06109979633402)), ('TPR@FPR=5e-3', np.float64(72.09775967413442)), ('TPR@FPR=5e-2', np.float64(89.0020366598778))]}\n",
      "Val Ret. Acc 92.2000%\n",
      "\n",
      "Epoch 5/50\n"
     ]
    },
    {
     "name": "stderr",
     "output_type": "stream",
     "text": [
      "Train:   0%|          | 0/1686 [00:00<?, ?it/s]/root/kaggle_face/scripts/train.py:31: FutureWarning: `torch.cuda.amp.autocast(args...)` is deprecated. Please use `torch.amp.autocast('cuda', args...)` instead.\n",
      "  with torch.cuda.amp.autocast():  # This implements mixed precision. Thats it!\n",
      "                                                                                                                   \r"
     ]
    },
    {
     "name": "stdout",
     "output_type": "stream",
     "text": [
      "\tTrain Cls. Acc 50.4236%\tTrain Cls. Loss 3.9266\t Learning Rate 0.0002000\n",
      "\tVal Cls. Acc 53.8318%\tVal Cls. Loss 3.7861\n"
     ]
    },
    {
     "name": "stderr",
     "output_type": "stream",
     "text": [
      "                                                        \r"
     ]
    },
    {
     "name": "stdout",
     "output_type": "stream",
     "text": [
      "{'ACC': np.float64(92.9), 'EER': 7.535641547861524, 'AUC': np.float64(97.66204250177057), 'TPRs': [('TPR@FPR=1e-4', np.float64(71.07942973523421)), ('TPR@FPR=5e-4', np.float64(71.07942973523421)), ('TPR@FPR=1e-3', np.float64(71.07942973523421)), ('TPR@FPR=5e-3', np.float64(75.96741344195519)), ('TPR@FPR=5e-2', np.float64(90.63136456211812))]}\n",
      "Val Ret. Acc 92.9000%\n",
      "\n",
      "Epoch 6/50\n"
     ]
    },
    {
     "name": "stderr",
     "output_type": "stream",
     "text": [
      "Train:   0%|          | 0/1686 [00:00<?, ?it/s]/root/kaggle_face/scripts/train.py:31: FutureWarning: `torch.cuda.amp.autocast(args...)` is deprecated. Please use `torch.amp.autocast('cuda', args...)` instead.\n",
      "  with torch.cuda.amp.autocast():  # This implements mixed precision. Thats it!\n",
      "                                                                                                                   \r"
     ]
    },
    {
     "name": "stdout",
     "output_type": "stream",
     "text": [
      "\tTrain Cls. Acc 61.4048%\tTrain Cls. Loss 3.4160\t Learning Rate 0.0002000\n",
      "\tVal Cls. Acc 61.4672%\tVal Cls. Loss 3.4237\n"
     ]
    },
    {
     "name": "stderr",
     "output_type": "stream",
     "text": [
      "                                                        \r"
     ]
    },
    {
     "name": "stdout",
     "output_type": "stream",
     "text": [
      "{'ACC': np.float64(93.3), 'EER': 7.128309572300946, 'AUC': np.float64(97.64843809394243), 'TPRs': [('TPR@FPR=1e-4', np.float64(76.37474541751527)), ('TPR@FPR=5e-4', np.float64(76.37474541751527)), ('TPR@FPR=1e-3', np.float64(76.37474541751527)), ('TPR@FPR=5e-3', np.float64(79.83706720977597)), ('TPR@FPR=5e-2', np.float64(91.0386965376782))]}\n",
      "Val Ret. Acc 93.3000%\n",
      "\n",
      "Epoch 7/50\n"
     ]
    },
    {
     "name": "stderr",
     "output_type": "stream",
     "text": [
      "Train:   0%|          | 0/1686 [00:00<?, ?it/s]/root/kaggle_face/scripts/train.py:31: FutureWarning: `torch.cuda.amp.autocast(args...)` is deprecated. Please use `torch.amp.autocast('cuda', args...)` instead.\n",
      "  with torch.cuda.amp.autocast():  # This implements mixed precision. Thats it!\n",
      "                                                                                                                   \r"
     ]
    },
    {
     "name": "stdout",
     "output_type": "stream",
     "text": [
      "\tTrain Cls. Acc 68.8434%\tTrain Cls. Loss 3.0715\t Learning Rate 0.0002000\n",
      "\tVal Cls. Acc 67.0519%\tVal Cls. Loss 3.1730\n"
     ]
    },
    {
     "name": "stderr",
     "output_type": "stream",
     "text": [
      "                                                        \r"
     ]
    },
    {
     "name": "stdout",
     "output_type": "stream",
     "text": [
      "{'ACC': np.float64(93.5), 'EER': 7.072691551953881, 'AUC': np.float64(97.88971626807086), 'TPRs': [('TPR@FPR=1e-4', np.float64(72.70875763747455)), ('TPR@FPR=5e-4', np.float64(72.70875763747455)), ('TPR@FPR=1e-3', np.float64(72.70875763747455)), ('TPR@FPR=5e-3', np.float64(82.89205702647658)), ('TPR@FPR=5e-2', np.float64(91.44602851323829))]}\n",
      "Val Ret. Acc 93.5000%\n",
      "\n",
      "Epoch 8/50\n"
     ]
    },
    {
     "name": "stderr",
     "output_type": "stream",
     "text": [
      "Train:   0%|          | 0/1686 [00:00<?, ?it/s]/root/kaggle_face/scripts/train.py:31: FutureWarning: `torch.cuda.amp.autocast(args...)` is deprecated. Please use `torch.amp.autocast('cuda', args...)` instead.\n",
      "  with torch.cuda.amp.autocast():  # This implements mixed precision. Thats it!\n",
      "                                                                                                                   \r"
     ]
    },
    {
     "name": "stdout",
     "output_type": "stream",
     "text": [
      "\tTrain Cls. Acc 74.3196%\tTrain Cls. Loss 2.8181\t Learning Rate 0.0002000\n",
      "\tVal Cls. Acc 70.4878%\tVal Cls. Loss 2.9950\n"
     ]
    },
    {
     "name": "stderr",
     "output_type": "stream",
     "text": [
      "                                                        \r"
     ]
    },
    {
     "name": "stdout",
     "output_type": "stream",
     "text": [
      "{'ACC': np.float64(94.1), 'EER': 6.313645621181295, 'AUC': np.float64(98.03056190205626), 'TPRs': [('TPR@FPR=1e-4', np.float64(77.39307535641548)), ('TPR@FPR=5e-4', np.float64(77.39307535641548)), ('TPR@FPR=1e-3', np.float64(77.39307535641548)), ('TPR@FPR=5e-3', np.float64(80.24439918533605)), ('TPR@FPR=5e-2', np.float64(92.26069246435846))]}\n",
      "Val Ret. Acc 94.1000%\n",
      "\n",
      "Epoch 9/50\n"
     ]
    },
    {
     "name": "stderr",
     "output_type": "stream",
     "text": [
      "Train:   0%|          | 0/1686 [00:00<?, ?it/s]/root/kaggle_face/scripts/train.py:31: FutureWarning: `torch.cuda.amp.autocast(args...)` is deprecated. Please use `torch.amp.autocast('cuda', args...)` instead.\n",
      "  with torch.cuda.amp.autocast():  # This implements mixed precision. Thats it!\n",
      "                                                                                                                   \r"
     ]
    },
    {
     "name": "stdout",
     "output_type": "stream",
     "text": [
      "\tTrain Cls. Acc 78.5166%\tTrain Cls. Loss 2.6244\t Learning Rate 0.0002000\n",
      "\tVal Cls. Acc 73.1771%\tVal Cls. Loss 2.8665\n"
     ]
    },
    {
     "name": "stderr",
     "output_type": "stream",
     "text": [
      "                                                        \r"
     ]
    },
    {
     "name": "stdout",
     "output_type": "stream",
     "text": [
      "{'ACC': np.float64(94.0), 'EER': 6.720977596741327, 'AUC': np.float64(97.7948855429159), 'TPRs': [('TPR@FPR=1e-4', np.float64(70.26476578411406)), ('TPR@FPR=5e-4', np.float64(70.26476578411406)), ('TPR@FPR=1e-3', np.float64(70.26476578411406)), ('TPR@FPR=5e-3', np.float64(82.07739307535643)), ('TPR@FPR=5e-2', np.float64(92.26069246435846))]}\n",
      "Val Ret. Acc 94.0000%\n",
      "\n",
      "Epoch 10/50\n"
     ]
    },
    {
     "name": "stderr",
     "output_type": "stream",
     "text": [
      "Train:   0%|          | 0/1686 [00:00<?, ?it/s]/root/kaggle_face/scripts/train.py:31: FutureWarning: `torch.cuda.amp.autocast(args...)` is deprecated. Please use `torch.amp.autocast('cuda', args...)` instead.\n",
      "  with torch.cuda.amp.autocast():  # This implements mixed precision. Thats it!\n",
      "                                                                                                                   \r"
     ]
    },
    {
     "name": "stdout",
     "output_type": "stream",
     "text": [
      "\tTrain Cls. Acc 81.8918%\tTrain Cls. Loss 2.4703\t Learning Rate 0.0002000\n",
      "\tVal Cls. Acc 74.7321%\tVal Cls. Loss 2.7915\n"
     ]
    },
    {
     "name": "stderr",
     "output_type": "stream",
     "text": [
      "                                                        \r"
     ]
    },
    {
     "name": "stdout",
     "output_type": "stream",
     "text": [
      "{'ACC': np.float64(94.3), 'EER': 6.720977596742099, 'AUC': np.float64(98.00235276229499), 'TPRs': [('TPR@FPR=1e-4', np.float64(78.61507128309573)), ('TPR@FPR=5e-4', np.float64(78.61507128309573)), ('TPR@FPR=1e-3', np.float64(78.61507128309573)), ('TPR@FPR=5e-3', np.float64(84.928716904277)), ('TPR@FPR=5e-2', np.float64(93.27902240325867))]}\n",
      "Val Ret. Acc 94.3000%\n",
      "\n",
      "Epoch 11/50\n"
     ]
    },
    {
     "name": "stderr",
     "output_type": "stream",
     "text": [
      "Train:   0%|          | 0/1686 [00:00<?, ?it/s]/root/kaggle_face/scripts/train.py:31: FutureWarning: `torch.cuda.amp.autocast(args...)` is deprecated. Please use `torch.amp.autocast('cuda', args...)` instead.\n",
      "  with torch.cuda.amp.autocast():  # This implements mixed precision. Thats it!\n",
      "                                                                                                                   \r"
     ]
    },
    {
     "name": "stdout",
     "output_type": "stream",
     "text": [
      "\tTrain Cls. Acc 84.7594%\tTrain Cls. Loss 2.3412\t Learning Rate 0.0002000\n",
      "\tVal Cls. Acc 76.7550%\tVal Cls. Loss 2.6851\n"
     ]
    },
    {
     "name": "stderr",
     "output_type": "stream",
     "text": [
      "                                                        \r"
     ]
    },
    {
     "name": "stdout",
     "output_type": "stream",
     "text": [
      "{'ACC': np.float64(94.8), 'EER': 6.31364562115707, 'AUC': np.float64(98.2238245191442), 'TPRs': [('TPR@FPR=1e-4', np.float64(82.4847250509165)), ('TPR@FPR=5e-4', np.float64(82.4847250509165)), ('TPR@FPR=1e-3', np.float64(82.4847250509165)), ('TPR@FPR=5e-3', np.float64(86.9653767820774)), ('TPR@FPR=5e-2', np.float64(93.48268839103869))]}\n",
      "Val Ret. Acc 94.8000%\n",
      "\n",
      "Epoch 12/50\n"
     ]
    },
    {
     "name": "stderr",
     "output_type": "stream",
     "text": [
      "Train:   0%|          | 0/1686 [00:00<?, ?it/s]/root/kaggle_face/scripts/train.py:31: FutureWarning: `torch.cuda.amp.autocast(args...)` is deprecated. Please use `torch.amp.autocast('cuda', args...)` instead.\n",
      "  with torch.cuda.amp.autocast():  # This implements mixed precision. Thats it!\n",
      "                                                                                                                   \r"
     ]
    },
    {
     "name": "stdout",
     "output_type": "stream",
     "text": [
      "\tTrain Cls. Acc 87.0194%\tTrain Cls. Loss 2.2338\t Learning Rate 0.0002000\n",
      "\tVal Cls. Acc 77.8939%\tVal Cls. Loss 2.6309\n"
     ]
    },
    {
     "name": "stderr",
     "output_type": "stream",
     "text": [
      "                                                        \r"
     ]
    },
    {
     "name": "stdout",
     "output_type": "stream",
     "text": [
      "{'ACC': np.float64(94.1), 'EER': 6.313645621181285, 'AUC': np.float64(97.91132326873907), 'TPRs': [('TPR@FPR=1e-4', np.float64(81.4663951120163)), ('TPR@FPR=5e-4', np.float64(81.4663951120163)), ('TPR@FPR=1e-3', np.float64(81.4663951120163)), ('TPR@FPR=5e-3', np.float64(85.94704684317719)), ('TPR@FPR=5e-2', np.float64(92.87169042769857))]}\n",
      "Val Ret. Acc 94.1000%\n",
      "\n",
      "Epoch 13/50\n"
     ]
    },
    {
     "name": "stderr",
     "output_type": "stream",
     "text": [
      "Train:   0%|          | 0/1686 [00:00<?, ?it/s]/root/kaggle_face/scripts/train.py:31: FutureWarning: `torch.cuda.amp.autocast(args...)` is deprecated. Please use `torch.amp.autocast('cuda', args...)` instead.\n",
      "  with torch.cuda.amp.autocast():  # This implements mixed precision. Thats it!\n",
      "                                                                                                                   \r"
     ]
    },
    {
     "name": "stdout",
     "output_type": "stream",
     "text": [
      "\tTrain Cls. Acc 89.0657%\tTrain Cls. Loss 2.1402\t Learning Rate 0.0002000\n",
      "\tVal Cls. Acc 78.9681%\tVal Cls. Loss 2.5751\n"
     ]
    },
    {
     "name": "stderr",
     "output_type": "stream",
     "text": [
      "                                                        \r"
     ]
    },
    {
     "name": "stdout",
     "output_type": "stream",
     "text": [
      "{'ACC': np.float64(94.9), 'EER': 5.500982318390084, 'AUC': np.float64(98.18101064744977), 'TPRs': [('TPR@FPR=1e-4', np.float64(78.61507128309573)), ('TPR@FPR=5e-4', np.float64(78.61507128309573)), ('TPR@FPR=1e-3', np.float64(78.61507128309573)), ('TPR@FPR=5e-3', np.float64(84.928716904277)), ('TPR@FPR=5e-2', np.float64(94.09368635437882))]}\n",
      "Val Ret. Acc 94.9000%\n",
      "\n",
      "Epoch 14/50\n"
     ]
    },
    {
     "name": "stderr",
     "output_type": "stream",
     "text": [
      "Train:   0%|          | 0/1686 [00:00<?, ?it/s]/root/kaggle_face/scripts/train.py:31: FutureWarning: `torch.cuda.amp.autocast(args...)` is deprecated. Please use `torch.amp.autocast('cuda', args...)` instead.\n",
      "  with torch.cuda.amp.autocast():  # This implements mixed precision. Thats it!\n",
      "                                                                                                                   \r"
     ]
    },
    {
     "name": "stdout",
     "output_type": "stream",
     "text": [
      "\tTrain Cls. Acc 90.7277%\tTrain Cls. Loss 2.0616\t Learning Rate 0.0002000\n",
      "\tVal Cls. Acc 79.7731%\tVal Cls. Loss 2.5362\n"
     ]
    },
    {
     "name": "stderr",
     "output_type": "stream",
     "text": [
      "                                                        \r"
     ]
    },
    {
     "name": "stdout",
     "output_type": "stream",
     "text": [
      "{'ACC': np.float64(94.7), 'EER': 5.906313645610322, 'AUC': np.float64(98.17060727675766), 'TPRs': [('TPR@FPR=1e-4', np.float64(81.26272912423626)), ('TPR@FPR=5e-4', np.float64(81.26272912423626)), ('TPR@FPR=1e-3', np.float64(81.26272912423626)), ('TPR@FPR=5e-3', np.float64(85.5397148676171)), ('TPR@FPR=5e-2', np.float64(93.89002036659878))]}\n",
      "Val Ret. Acc 94.7000%\n",
      "\n",
      "Epoch 15/50\n"
     ]
    },
    {
     "name": "stderr",
     "output_type": "stream",
     "text": [
      "Train:   0%|          | 0/1686 [00:00<?, ?it/s]/root/kaggle_face/scripts/train.py:31: FutureWarning: `torch.cuda.amp.autocast(args...)` is deprecated. Please use `torch.amp.autocast('cuda', args...)` instead.\n",
      "  with torch.cuda.amp.autocast():  # This implements mixed precision. Thats it!\n",
      "                                                                                                                   \r"
     ]
    },
    {
     "name": "stdout",
     "output_type": "stream",
     "text": [
      "\tTrain Cls. Acc 92.1692%\tTrain Cls. Loss 1.9935\t Learning Rate 0.0002000\n",
      "\tVal Cls. Acc 80.7548%\tVal Cls. Loss 2.4842\n"
     ]
    },
    {
     "name": "stderr",
     "output_type": "stream",
     "text": [
      "                                                        \r"
     ]
    },
    {
     "name": "stdout",
     "output_type": "stream",
     "text": [
      "{'ACC': np.float64(95.1), 'EER': 5.9063136456211875, 'AUC': np.float64(98.1742084435357), 'TPRs': [('TPR@FPR=1e-4', np.float64(79.63340122199592)), ('TPR@FPR=5e-4', np.float64(79.63340122199592)), ('TPR@FPR=1e-3', np.float64(79.63340122199592)), ('TPR@FPR=5e-3', np.float64(85.13238289205702)), ('TPR@FPR=5e-2', np.float64(93.68635437881873))]}\n",
      "Val Ret. Acc 95.1000%\n",
      "\n",
      "Epoch 16/50\n"
     ]
    },
    {
     "name": "stderr",
     "output_type": "stream",
     "text": [
      "Train:   0%|          | 0/1686 [00:00<?, ?it/s]/root/kaggle_face/scripts/train.py:31: FutureWarning: `torch.cuda.amp.autocast(args...)` is deprecated. Please use `torch.amp.autocast('cuda', args...)` instead.\n",
      "  with torch.cuda.amp.autocast():  # This implements mixed precision. Thats it!\n",
      "                                                                                                                   \r"
     ]
    },
    {
     "name": "stdout",
     "output_type": "stream",
     "text": [
      "\tTrain Cls. Acc 93.3491%\tTrain Cls. Loss 1.9353\t Learning Rate 0.0002000\n",
      "\tVal Cls. Acc 81.5435%\tVal Cls. Loss 2.4444\n"
     ]
    },
    {
     "name": "stderr",
     "output_type": "stream",
     "text": [
      "                                                        \r"
     ]
    },
    {
     "name": "stdout",
     "output_type": "stream",
     "text": [
      "{'ACC': np.float64(94.7), 'EER': 5.697445972462262, 'AUC': np.float64(98.22942633413226), 'TPRs': [('TPR@FPR=1e-4', np.float64(86.15071283095723)), ('TPR@FPR=5e-4', np.float64(86.15071283095723)), ('TPR@FPR=1e-3', np.float64(86.15071283095723)), ('TPR@FPR=5e-3', np.float64(87.57637474541752)), ('TPR@FPR=5e-2', np.float64(94.29735234215886))]}\n",
      "Val Ret. Acc 94.7000%\n",
      "\n",
      "Epoch 17/50\n"
     ]
    },
    {
     "name": "stderr",
     "output_type": "stream",
     "text": [
      "Train:   0%|          | 0/1686 [00:00<?, ?it/s]/root/kaggle_face/scripts/train.py:31: FutureWarning: `torch.cuda.amp.autocast(args...)` is deprecated. Please use `torch.amp.autocast('cuda', args...)` instead.\n",
      "  with torch.cuda.amp.autocast():  # This implements mixed precision. Thats it!\n",
      "                                                                                                                   \r"
     ]
    },
    {
     "name": "stdout",
     "output_type": "stream",
     "text": [
      "\tTrain Cls. Acc 94.4395%\tTrain Cls. Loss 1.8803\t Learning Rate 0.0002000\n",
      "\tVal Cls. Acc 81.6152%\tVal Cls. Loss 2.4375\n"
     ]
    },
    {
     "name": "stderr",
     "output_type": "stream",
     "text": [
      "                                                        \r"
     ]
    },
    {
     "name": "stdout",
     "output_type": "stream",
     "text": [
      "{'ACC': np.float64(94.1), 'EER': 6.876227897745937, 'AUC': np.float64(98.0337629391923), 'TPRs': [('TPR@FPR=1e-4', np.float64(81.67006109979633)), ('TPR@FPR=5e-4', np.float64(81.67006109979633)), ('TPR@FPR=1e-3', np.float64(81.67006109979633)), ('TPR@FPR=5e-3', np.float64(85.13238289205702)), ('TPR@FPR=5e-2', np.float64(92.4643584521385))]}\n",
      "Val Ret. Acc 94.1000%\n",
      "\n",
      "Epoch 18/50\n"
     ]
    },
    {
     "name": "stderr",
     "output_type": "stream",
     "text": [
      "Train:   0%|          | 0/1686 [00:00<?, ?it/s]/root/kaggle_face/scripts/train.py:31: FutureWarning: `torch.cuda.amp.autocast(args...)` is deprecated. Please use `torch.amp.autocast('cuda', args...)` instead.\n",
      "  with torch.cuda.amp.autocast():  # This implements mixed precision. Thats it!\n",
      "                                                                                                                   \r"
     ]
    },
    {
     "name": "stdout",
     "output_type": "stream",
     "text": [
      "\tTrain Cls. Acc 95.2691%\tTrain Cls. Loss 1.8379\t Learning Rate 0.0002000\n",
      "\tVal Cls. Acc 82.2998%\tVal Cls. Loss 2.3973\n"
     ]
    },
    {
     "name": "stderr",
     "output_type": "stream",
     "text": [
      "                                                        \r"
     ]
    },
    {
     "name": "stdout",
     "output_type": "stream",
     "text": [
      "{'ACC': np.float64(95.0), 'EER': 5.6974459724114235, 'AUC': np.float64(98.45870061900055), 'TPRs': [('TPR@FPR=1e-4', np.float64(83.70672097759673)), ('TPR@FPR=5e-4', np.float64(83.70672097759673)), ('TPR@FPR=1e-3', np.float64(83.70672097759673)), ('TPR@FPR=5e-3', np.float64(86.9653767820774)), ('TPR@FPR=5e-2', np.float64(94.09368635437882))]}\n",
      "Val Ret. Acc 95.0000%\n",
      "\n",
      "Epoch 19/50\n"
     ]
    },
    {
     "name": "stderr",
     "output_type": "stream",
     "text": [
      "Train:   0%|          | 0/1686 [00:00<?, ?it/s]/root/kaggle_face/scripts/train.py:31: FutureWarning: `torch.cuda.amp.autocast(args...)` is deprecated. Please use `torch.amp.autocast('cuda', args...)` instead.\n",
      "  with torch.cuda.amp.autocast():  # This implements mixed precision. Thats it!\n",
      "                                                                                                                   \r"
     ]
    },
    {
     "name": "stdout",
     "output_type": "stream",
     "text": [
      "\tTrain Cls. Acc 96.0019%\tTrain Cls. Loss 1.7972\t Learning Rate 0.0002000\n",
      "\tVal Cls. Acc 82.5328%\tVal Cls. Loss 2.3889\n"
     ]
    },
    {
     "name": "stderr",
     "output_type": "stream",
     "text": [
      "                                                        \r"
     ]
    },
    {
     "name": "stdout",
     "output_type": "stream",
     "text": [
      "{'ACC': np.float64(95.0), 'EER': 5.295315682281046, 'AUC': np.float64(98.30705148468104), 'TPRs': [('TPR@FPR=1e-4', np.float64(85.13238289205702)), ('TPR@FPR=5e-4', np.float64(85.13238289205702)), ('TPR@FPR=1e-3', np.float64(85.13238289205702)), ('TPR@FPR=5e-3', np.float64(86.76171079429736)), ('TPR@FPR=5e-2', np.float64(94.70468431771894))]}\n",
      "Val Ret. Acc 95.0000%\n",
      "\n",
      "Epoch 20/50\n"
     ]
    },
    {
     "name": "stderr",
     "output_type": "stream",
     "text": [
      "Train:   0%|          | 0/1686 [00:00<?, ?it/s]/root/kaggle_face/scripts/train.py:31: FutureWarning: `torch.cuda.amp.autocast(args...)` is deprecated. Please use `torch.amp.autocast('cuda', args...)` instead.\n",
      "  with torch.cuda.amp.autocast():  # This implements mixed precision. Thats it!\n",
      "                                                                                                                   \r"
     ]
    },
    {
     "name": "stdout",
     "output_type": "stream",
     "text": [
      "\tTrain Cls. Acc 96.6012%\tTrain Cls. Loss 1.7635\t Learning Rate 0.0002000\n",
      "\tVal Cls. Acc 82.8315%\tVal Cls. Loss 2.3702\n"
     ]
    },
    {
     "name": "stderr",
     "output_type": "stream",
     "text": [
      "                                                        \r"
     ]
    },
    {
     "name": "stdout",
     "output_type": "stream",
     "text": [
      "{'ACC': np.float64(95.3), 'EER': 5.4989816700669225, 'AUC': np.float64(98.31185304038509), 'TPRs': [('TPR@FPR=1e-4', np.float64(84.11405295315683)), ('TPR@FPR=5e-4', np.float64(84.11405295315683)), ('TPR@FPR=1e-3', np.float64(84.11405295315683)), ('TPR@FPR=5e-3', np.float64(85.94704684317719)), ('TPR@FPR=5e-2', np.float64(93.68635437881873))]}\n",
      "Val Ret. Acc 95.3000%\n",
      "\n",
      "Epoch 21/50\n"
     ]
    },
    {
     "name": "stderr",
     "output_type": "stream",
     "text": [
      "Train:   0%|          | 0/1686 [00:00<?, ?it/s]/root/kaggle_face/scripts/train.py:31: FutureWarning: `torch.cuda.amp.autocast(args...)` is deprecated. Please use `torch.amp.autocast('cuda', args...)` instead.\n",
      "  with torch.cuda.amp.autocast():  # This implements mixed precision. Thats it!\n",
      "                                                                                                                   \r"
     ]
    },
    {
     "name": "stdout",
     "output_type": "stream",
     "text": [
      "\tTrain Cls. Acc 97.1263%\tTrain Cls. Loss 1.7319\t Learning Rate 0.0002000\n",
      "\tVal Cls. Acc 82.8616%\tVal Cls. Loss 2.3598\n"
     ]
    },
    {
     "name": "stderr",
     "output_type": "stream",
     "text": [
      "                                                        \r"
     ]
    },
    {
     "name": "stdout",
     "output_type": "stream",
     "text": [
      "{'ACC': np.float64(94.7), 'EER': 6.109979633401265, 'AUC': np.float64(98.3338601706953), 'TPRs': [('TPR@FPR=1e-4', np.float64(84.5213849287169)), ('TPR@FPR=5e-4', np.float64(84.5213849287169)), ('TPR@FPR=1e-3', np.float64(84.5213849287169)), ('TPR@FPR=5e-3', np.float64(88.59470468431772)), ('TPR@FPR=5e-2', np.float64(92.87169042769857))]}\n",
      "Val Ret. Acc 94.7000%\n",
      "\n",
      "Epoch 22/50\n"
     ]
    },
    {
     "name": "stderr",
     "output_type": "stream",
     "text": [
      "Train:   0%|          | 0/1686 [00:00<?, ?it/s]/root/kaggle_face/scripts/train.py:31: FutureWarning: `torch.cuda.amp.autocast(args...)` is deprecated. Please use `torch.amp.autocast('cuda', args...)` instead.\n",
      "  with torch.cuda.amp.autocast():  # This implements mixed precision. Thats it!\n",
      "                                                                                                                    \r"
     ]
    },
    {
     "name": "stdout",
     "output_type": "stream",
     "text": [
      "\tTrain Cls. Acc 97.4847%\tTrain Cls. Loss 1.7071\t Learning Rate 0.0002000\n",
      "\tVal Cls. Acc 83.2886%\tVal Cls. Loss 2.3414\n"
     ]
    },
    {
     "name": "stderr",
     "output_type": "stream",
     "text": [
      "                                                        \r"
     ]
    },
    {
     "name": "stdout",
     "output_type": "stream",
     "text": [
      "{'ACC': np.float64(95.2), 'EER': 5.304518664180633, 'AUC': np.float64(98.42548985871423), 'TPRs': [('TPR@FPR=1e-4', np.float64(84.72505091649694)), ('TPR@FPR=5e-4', np.float64(84.72505091649694)), ('TPR@FPR=1e-3', np.float64(84.72505091649694)), ('TPR@FPR=5e-3', np.float64(85.5397148676171)), ('TPR@FPR=5e-2', np.float64(94.29735234215886))]}\n",
      "Val Ret. Acc 95.2000%\n",
      "\n",
      "Epoch 23/50\n"
     ]
    },
    {
     "name": "stderr",
     "output_type": "stream",
     "text": [
      "Train:   0%|          | 0/1686 [00:00<?, ?it/s]/root/kaggle_face/scripts/train.py:31: FutureWarning: `torch.cuda.amp.autocast(args...)` is deprecated. Please use `torch.amp.autocast('cuda', args...)` instead.\n",
      "  with torch.cuda.amp.autocast():  # This implements mixed precision. Thats it!\n",
      "                                                                                                                   \r"
     ]
    },
    {
     "name": "stdout",
     "output_type": "stream",
     "text": [
      "\tTrain Cls. Acc 97.8413%\tTrain Cls. Loss 1.6821\t Learning Rate 0.0002000\n",
      "\tVal Cls. Acc 83.7538%\tVal Cls. Loss 2.3182\n"
     ]
    },
    {
     "name": "stderr",
     "output_type": "stream",
     "text": [
      "                                                        \r"
     ]
    },
    {
     "name": "stdout",
     "output_type": "stream",
     "text": [
      "{'ACC': np.float64(94.9), 'EER': 5.702647657841144, 'AUC': np.float64(98.39828104305795), 'TPRs': [('TPR@FPR=1e-4', np.float64(86.35437881873727)), ('TPR@FPR=5e-4', np.float64(86.35437881873727)), ('TPR@FPR=1e-3', np.float64(86.35437881873727)), ('TPR@FPR=5e-3', np.float64(88.18737270875764)), ('TPR@FPR=5e-2', np.float64(94.29735234215886))]}\n",
      "Val Ret. Acc 94.9000%\n",
      "\n",
      "Epoch 24/50\n"
     ]
    },
    {
     "name": "stderr",
     "output_type": "stream",
     "text": [
      "Train:   0%|          | 0/1686 [00:00<?, ?it/s]/root/kaggle_face/scripts/train.py:31: FutureWarning: `torch.cuda.amp.autocast(args...)` is deprecated. Please use `torch.amp.autocast('cuda', args...)` instead.\n",
      "  with torch.cuda.amp.autocast():  # This implements mixed precision. Thats it!\n",
      "                                                                                                                    \r"
     ]
    },
    {
     "name": "stdout",
     "output_type": "stream",
     "text": [
      "\tTrain Cls. Acc 98.0921%\tTrain Cls. Loss 1.6626\t Learning Rate 0.0002000\n",
      "\tVal Cls. Acc 84.2646%\tVal Cls. Loss 2.3094\n"
     ]
    },
    {
     "name": "stderr",
     "output_type": "stream",
     "text": [
      "                                                        \r"
     ]
    },
    {
     "name": "stdout",
     "output_type": "stream",
     "text": [
      "{'ACC': np.float64(94.9), 'EER': 5.108055009834491, 'AUC': np.float64(98.41588674730613), 'TPRs': [('TPR@FPR=1e-4', np.float64(86.55804480651732)), ('TPR@FPR=5e-4', np.float64(86.55804480651732)), ('TPR@FPR=1e-3', np.float64(86.55804480651732)), ('TPR@FPR=5e-3', np.float64(87.78004073319755)), ('TPR@FPR=5e-2', np.float64(94.70468431771894))]}\n",
      "Val Ret. Acc 94.9000%\n",
      "\n",
      "Epoch 25/50\n"
     ]
    },
    {
     "name": "stderr",
     "output_type": "stream",
     "text": [
      "Train:   0%|          | 0/1686 [00:00<?, ?it/s]/root/kaggle_face/scripts/train.py:31: FutureWarning: `torch.cuda.amp.autocast(args...)` is deprecated. Please use `torch.amp.autocast('cuda', args...)` instead.\n",
      "  with torch.cuda.amp.autocast():  # This implements mixed precision. Thats it!\n",
      "                                                                                                                    \r"
     ]
    },
    {
     "name": "stdout",
     "output_type": "stream",
     "text": [
      "\tTrain Cls. Acc 98.3662%\tTrain Cls. Loss 1.6429\t Learning Rate 0.0002000\n",
      "\tVal Cls. Acc 84.4674%\tVal Cls. Loss 2.2819\n"
     ]
    },
    {
     "name": "stderr",
     "output_type": "stream",
     "text": [
      "                                                        \r"
     ]
    },
    {
     "name": "stdout",
     "output_type": "stream",
     "text": [
      "{'ACC': np.float64(95.5), 'EER': 4.715127701393262, 'AUC': np.float64(98.41108519160208), 'TPRs': [('TPR@FPR=1e-4', np.float64(84.31771894093686)), ('TPR@FPR=5e-4', np.float64(84.31771894093686)), ('TPR@FPR=1e-3', np.float64(84.31771894093686)), ('TPR@FPR=5e-3', np.float64(88.79837067209776)), ('TPR@FPR=5e-2', np.float64(95.31568228105907))]}\n",
      "Val Ret. Acc 95.5000%\n",
      "\n",
      "Epoch 26/50\n"
     ]
    },
    {
     "name": "stderr",
     "output_type": "stream",
     "text": [
      "Train:   0%|          | 0/1686 [00:00<?, ?it/s]/root/kaggle_face/scripts/train.py:31: FutureWarning: `torch.cuda.amp.autocast(args...)` is deprecated. Please use `torch.amp.autocast('cuda', args...)` instead.\n",
      "  with torch.cuda.amp.autocast():  # This implements mixed precision. Thats it!\n",
      "                                                                                                                    \r"
     ]
    },
    {
     "name": "stdout",
     "output_type": "stream",
     "text": [
      "\tTrain Cls. Acc 98.5370%\tTrain Cls. Loss 1.6266\t Learning Rate 0.0002000\n",
      "\tVal Cls. Acc 84.4523%\tVal Cls. Loss 2.2800\n"
     ]
    },
    {
     "name": "stderr",
     "output_type": "stream",
     "text": [
      "                                                        \r"
     ]
    },
    {
     "name": "stdout",
     "output_type": "stream",
     "text": [
      "{'ACC': np.float64(95.7), 'EER': 4.480651731150239, 'AUC': np.float64(98.55713251093354), 'TPRs': [('TPR@FPR=1e-4', np.float64(87.37270875763747)), ('TPR@FPR=5e-4', np.float64(87.37270875763747)), ('TPR@FPR=1e-3', np.float64(87.37270875763747)), ('TPR@FPR=5e-3', np.float64(88.39103869653768)), ('TPR@FPR=5e-2', np.float64(95.72301425661914))]}\n",
      "Val Ret. Acc 95.7000%\n",
      "\n",
      "Epoch 27/50\n"
     ]
    },
    {
     "name": "stderr",
     "output_type": "stream",
     "text": [
      "Train:   0%|          | 0/1686 [00:00<?, ?it/s]/root/kaggle_face/scripts/train.py:31: FutureWarning: `torch.cuda.amp.autocast(args...)` is deprecated. Please use `torch.amp.autocast('cuda', args...)` instead.\n",
      "  with torch.cuda.amp.autocast():  # This implements mixed precision. Thats it!\n",
      "                                                                                                                    \r"
     ]
    },
    {
     "name": "stdout",
     "output_type": "stream",
     "text": [
      "\tTrain Cls. Acc 98.6849%\tTrain Cls. Loss 1.6122\t Learning Rate 0.0002000\n",
      "\tVal Cls. Acc 84.2686%\tVal Cls. Loss 2.2956\n"
     ]
    },
    {
     "name": "stderr",
     "output_type": "stream",
     "text": [
      "                                                        \r"
     ]
    },
    {
     "name": "stdout",
     "output_type": "stream",
     "text": [
      "{'ACC': np.float64(95.4), 'EER': 5.091649694501021, 'AUC': np.float64(98.62875571685225), 'TPRs': [('TPR@FPR=1e-4', np.float64(83.5030549898167)), ('TPR@FPR=5e-4', np.float64(83.5030549898167)), ('TPR@FPR=1e-3', np.float64(83.5030549898167)), ('TPR@FPR=5e-3', np.float64(87.9837067209776)), ('TPR@FPR=5e-2', np.float64(94.90835030549898))]}\n",
      "Val Ret. Acc 95.4000%\n",
      "\n",
      "Epoch 28/50\n"
     ]
    },
    {
     "name": "stderr",
     "output_type": "stream",
     "text": [
      "Train:   0%|          | 0/1686 [00:00<?, ?it/s]/root/kaggle_face/scripts/train.py:31: FutureWarning: `torch.cuda.amp.autocast(args...)` is deprecated. Please use `torch.amp.autocast('cuda', args...)` instead.\n",
      "  with torch.cuda.amp.autocast():  # This implements mixed precision. Thats it!\n",
      "                                                                                                                    \r"
     ]
    },
    {
     "name": "stdout",
     "output_type": "stream",
     "text": [
      "\tTrain Cls. Acc 98.7588%\tTrain Cls. Loss 1.5999\t Learning Rate 0.0002000\n",
      "\tVal Cls. Acc 85.0215%\tVal Cls. Loss 2.2549\n"
     ]
    },
    {
     "name": "stderr",
     "output_type": "stream",
     "text": [
      "                                                        \r"
     ]
    },
    {
     "name": "stdout",
     "output_type": "stream",
     "text": [
      "{'ACC': np.float64(96.0), 'EER': 4.518664047034493, 'AUC': np.float64(98.7235864420072), 'TPRs': [('TPR@FPR=1e-4', np.float64(88.59470468431772)), ('TPR@FPR=5e-4', np.float64(88.59470468431772)), ('TPR@FPR=1e-3', np.float64(88.59470468431772)), ('TPR@FPR=5e-3', np.float64(90.4276985743381)), ('TPR@FPR=5e-2', np.float64(95.9266802443992))]}\n",
      "Val Ret. Acc 96.0000%\n",
      "\n",
      "Epoch 29/50\n"
     ]
    },
    {
     "name": "stderr",
     "output_type": "stream",
     "text": [
      "Train:   0%|          | 0/1686 [00:00<?, ?it/s]/root/kaggle_face/scripts/train.py:31: FutureWarning: `torch.cuda.amp.autocast(args...)` is deprecated. Please use `torch.amp.autocast('cuda', args...)` instead.\n",
      "  with torch.cuda.amp.autocast():  # This implements mixed precision. Thats it!\n",
      "                                                                                                                    \r"
     ]
    },
    {
     "name": "stdout",
     "output_type": "stream",
     "text": [
      "\tTrain Cls. Acc 98.8838%\tTrain Cls. Loss 1.5868\t Learning Rate 0.0002000\n",
      "\tVal Cls. Acc 84.8123%\tVal Cls. Loss 2.2607\n"
     ]
    },
    {
     "name": "stderr",
     "output_type": "stream",
     "text": [
      "                                                        \r"
     ]
    },
    {
     "name": "stdout",
     "output_type": "stream",
     "text": [
      "{'ACC': np.float64(95.9), 'EER': 4.480651731160902, 'AUC': np.float64(98.67637114425072), 'TPRs': [('TPR@FPR=1e-4', np.float64(86.9653767820774)), ('TPR@FPR=5e-4', np.float64(86.9653767820774)), ('TPR@FPR=1e-3', np.float64(86.9653767820774)), ('TPR@FPR=5e-3', np.float64(90.020366598778)), ('TPR@FPR=5e-2', np.float64(95.72301425661914))]}\n",
      "Val Ret. Acc 95.9000%\n",
      "\n",
      "Epoch 30/50\n"
     ]
    },
    {
     "name": "stderr",
     "output_type": "stream",
     "text": [
      "Train:   0%|          | 0/1686 [00:00<?, ?it/s]/root/kaggle_face/scripts/train.py:31: FutureWarning: `torch.cuda.amp.autocast(args...)` is deprecated. Please use `torch.amp.autocast('cuda', args...)` instead.\n",
      "  with torch.cuda.amp.autocast():  # This implements mixed precision. Thats it!\n",
      "                                                                                                                    \r"
     ]
    },
    {
     "name": "stdout",
     "output_type": "stream",
     "text": [
      "\tTrain Cls. Acc 98.9679%\tTrain Cls. Loss 1.5772\t Learning Rate 0.0002000\n",
      "\tVal Cls. Acc 85.2774%\tVal Cls. Loss 2.2517\n"
     ]
    },
    {
     "name": "stderr",
     "output_type": "stream",
     "text": [
      "                                                        \r"
     ]
    },
    {
     "name": "stdout",
     "output_type": "stream",
     "text": [
      "{'ACC': np.float64(96.0), 'EER': 4.887983706720975, 'AUC': np.float64(98.66876868105265), 'TPRs': [('TPR@FPR=1e-4', np.float64(85.94704684317719)), ('TPR@FPR=5e-4', np.float64(85.94704684317719)), ('TPR@FPR=1e-3', np.float64(85.94704684317719)), ('TPR@FPR=5e-3', np.float64(90.22403258655804)), ('TPR@FPR=5e-2', np.float64(95.11201629327903))]}\n",
      "Val Ret. Acc 96.0000%\n",
      "\n",
      "Epoch 31/50\n"
     ]
    },
    {
     "name": "stderr",
     "output_type": "stream",
     "text": [
      "Train:   0%|          | 0/1686 [00:00<?, ?it/s]/root/kaggle_face/scripts/train.py:31: FutureWarning: `torch.cuda.amp.autocast(args...)` is deprecated. Please use `torch.amp.autocast('cuda', args...)` instead.\n",
      "  with torch.cuda.amp.autocast():  # This implements mixed precision. Thats it!\n",
      "                                                                                                                    \r"
     ]
    },
    {
     "name": "stdout",
     "output_type": "stream",
     "text": [
      "\tTrain Cls. Acc 99.0773%\tTrain Cls. Loss 1.5657\t Learning Rate 0.0002000\n",
      "\tVal Cls. Acc 85.1919%\tVal Cls. Loss 2.2605\n"
     ]
    },
    {
     "name": "stderr",
     "output_type": "stream",
     "text": [
      "                                                        \r"
     ]
    },
    {
     "name": "stdout",
     "output_type": "stream",
     "text": [
      "{'ACC': np.float64(96.3), 'EER': 3.869653767821003, 'AUC': np.float64(98.56673562234164), 'TPRs': [('TPR@FPR=1e-4', np.float64(85.74338085539715)), ('TPR@FPR=5e-4', np.float64(85.74338085539715)), ('TPR@FPR=1e-3', np.float64(85.74338085539715)), ('TPR@FPR=5e-3', np.float64(88.79837067209776)), ('TPR@FPR=5e-2', np.float64(96.13034623217924))]}\n",
      "Val Ret. Acc 96.3000%\n",
      "\n",
      "Epoch 32/50\n"
     ]
    },
    {
     "name": "stderr",
     "output_type": "stream",
     "text": [
      "Train:   0%|          | 0/1686 [00:00<?, ?it/s]/root/kaggle_face/scripts/train.py:31: FutureWarning: `torch.cuda.amp.autocast(args...)` is deprecated. Please use `torch.amp.autocast('cuda', args...)` instead.\n",
      "  with torch.cuda.amp.autocast():  # This implements mixed precision. Thats it!\n",
      "                                                                                                                    \r"
     ]
    },
    {
     "name": "stdout",
     "output_type": "stream",
     "text": [
      "\tTrain Cls. Acc 99.1149%\tTrain Cls. Loss 1.5585\t Learning Rate 0.0002000\n",
      "\tVal Cls. Acc 85.4167%\tVal Cls. Loss 2.2362\n"
     ]
    },
    {
     "name": "stderr",
     "output_type": "stream",
     "text": [
      "                                                        \r"
     ]
    },
    {
     "name": "stdout",
     "output_type": "stream",
     "text": [
      "{'ACC': np.float64(95.7), 'EER': 4.887983706720978, 'AUC': np.float64(98.4434956926044), 'TPRs': [('TPR@FPR=1e-4', np.float64(85.94704684317719)), ('TPR@FPR=5e-4', np.float64(85.94704684317719)), ('TPR@FPR=1e-3', np.float64(85.94704684317719)), ('TPR@FPR=5e-3', np.float64(90.63136456211812)), ('TPR@FPR=5e-2', np.float64(95.31568228105907))]}\n",
      "Val Ret. Acc 95.7000%\n",
      "\n",
      "Epoch 33/50\n"
     ]
    },
    {
     "name": "stderr",
     "output_type": "stream",
     "text": [
      "Train:   0%|          | 0/1686 [00:00<?, ?it/s]/root/kaggle_face/scripts/train.py:31: FutureWarning: `torch.cuda.amp.autocast(args...)` is deprecated. Please use `torch.amp.autocast('cuda', args...)` instead.\n",
      "  with torch.cuda.amp.autocast():  # This implements mixed precision. Thats it!\n",
      "                                                                                                                    \r"
     ]
    },
    {
     "name": "stdout",
     "output_type": "stream",
     "text": [
      "\tTrain Cls. Acc 99.1916%\tTrain Cls. Loss 1.5486\t Learning Rate 0.0002000\n",
      "\tVal Cls. Acc 85.7323%\tVal Cls. Loss 2.2101\n"
     ]
    },
    {
     "name": "stderr",
     "output_type": "stream",
     "text": [
      "                                                        \r"
     ]
    },
    {
     "name": "stdout",
     "output_type": "stream",
     "text": [
      "{'ACC': np.float64(96.5), 'EER': 4.073319755565293, 'AUC': np.float64(98.65276349537251), 'TPRs': [('TPR@FPR=1e-4', np.float64(85.5397148676171)), ('TPR@FPR=5e-4', np.float64(85.5397148676171)), ('TPR@FPR=1e-3', np.float64(85.5397148676171)), ('TPR@FPR=5e-3', np.float64(88.79837067209776)), ('TPR@FPR=5e-2', np.float64(96.5376782077393))]}\n",
      "Val Ret. Acc 96.5000%\n",
      "\n",
      "Epoch 34/50\n"
     ]
    },
    {
     "name": "stderr",
     "output_type": "stream",
     "text": [
      "Train:   0%|          | 0/1686 [00:00<?, ?it/s]/root/kaggle_face/scripts/train.py:31: FutureWarning: `torch.cuda.amp.autocast(args...)` is deprecated. Please use `torch.amp.autocast('cuda', args...)` instead.\n",
      "  with torch.cuda.amp.autocast():  # This implements mixed precision. Thats it!\n",
      "                                                                                                                    \r"
     ]
    },
    {
     "name": "stdout",
     "output_type": "stream",
     "text": [
      "\tTrain Cls. Acc 99.2306%\tTrain Cls. Loss 1.5415\t Learning Rate 0.0002000\n",
      "\tVal Cls. Acc 85.7912%\tVal Cls. Loss 2.2045\n"
     ]
    },
    {
     "name": "stderr",
     "output_type": "stream",
     "text": [
      "                                                        \r"
     ]
    },
    {
     "name": "stdout",
     "output_type": "stream",
     "text": [
      "{'ACC': np.float64(96.7), 'EER': 4.276985743380854, 'AUC': np.float64(98.9620637086416), 'TPRs': [('TPR@FPR=1e-4', np.float64(88.79837067209776)), ('TPR@FPR=5e-4', np.float64(88.79837067209776)), ('TPR@FPR=1e-3', np.float64(88.79837067209776)), ('TPR@FPR=5e-3', np.float64(92.05702647657841)), ('TPR@FPR=5e-2', np.float64(95.9266802443992))]}\n",
      "Val Ret. Acc 96.7000%\n",
      "\n",
      "Epoch 35/50\n"
     ]
    },
    {
     "name": "stderr",
     "output_type": "stream",
     "text": [
      "Train:   0%|          | 0/1686 [00:00<?, ?it/s]/root/kaggle_face/scripts/train.py:31: FutureWarning: `torch.cuda.amp.autocast(args...)` is deprecated. Please use `torch.amp.autocast('cuda', args...)` instead.\n",
      "  with torch.cuda.amp.autocast():  # This implements mixed precision. Thats it!\n",
      "                                                                                                                    \r"
     ]
    },
    {
     "name": "stdout",
     "output_type": "stream",
     "text": [
      "\tTrain Cls. Acc 99.2757%\tTrain Cls. Loss 1.5350\t Learning Rate 0.0002000\n",
      "\tVal Cls. Acc 85.7639%\tVal Cls. Loss 2.2166\n"
     ]
    },
    {
     "name": "stderr",
     "output_type": "stream",
     "text": [
      "                                                        \r"
     ]
    },
    {
     "name": "stdout",
     "output_type": "stream",
     "text": [
      "{'ACC': np.float64(96.0), 'EER': 4.4806517311609015, 'AUC': np.float64(98.75479655408353), 'TPRs': [('TPR@FPR=1e-4', np.float64(90.22403258655804)), ('TPR@FPR=5e-4', np.float64(90.22403258655804)), ('TPR@FPR=1e-3', np.float64(90.22403258655804)), ('TPR@FPR=5e-3', np.float64(91.0386965376782)), ('TPR@FPR=5e-2', np.float64(96.13034623217924))]}\n",
      "Val Ret. Acc 96.0000%\n",
      "\n",
      "Epoch 36/50\n"
     ]
    },
    {
     "name": "stderr",
     "output_type": "stream",
     "text": [
      "Train:   0%|          | 0/1686 [00:00<?, ?it/s]/root/kaggle_face/scripts/train.py:31: FutureWarning: `torch.cuda.amp.autocast(args...)` is deprecated. Please use `torch.amp.autocast('cuda', args...)` instead.\n",
      "  with torch.cuda.amp.autocast():  # This implements mixed precision. Thats it!\n",
      "                                                                                                                    \r"
     ]
    },
    {
     "name": "stdout",
     "output_type": "stream",
     "text": [
      "\tTrain Cls. Acc 99.2935%\tTrain Cls. Loss 1.5286\t Learning Rate 0.0002000\n",
      "\tVal Cls. Acc 85.6948%\tVal Cls. Loss 2.2103\n"
     ]
    },
    {
     "name": "stderr",
     "output_type": "stream",
     "text": [
      "                                                        \r"
     ]
    },
    {
     "name": "stdout",
     "output_type": "stream",
     "text": [
      "{'ACC': np.float64(96.0), 'EER': 4.276985743380861, 'AUC': np.float64(98.7916084811479), 'TPRs': [('TPR@FPR=1e-4', np.float64(88.18737270875764)), ('TPR@FPR=5e-4', np.float64(88.18737270875764)), ('TPR@FPR=1e-3', np.float64(88.18737270875764)), ('TPR@FPR=5e-3', np.float64(90.4276985743381)), ('TPR@FPR=5e-2', np.float64(96.13034623217924))]}\n",
      "Val Ret. Acc 96.0000%\n",
      "\n",
      "Epoch 37/50\n"
     ]
    },
    {
     "name": "stderr",
     "output_type": "stream",
     "text": [
      "Train:   0%|          | 0/1686 [00:00<?, ?it/s]/root/kaggle_face/scripts/train.py:31: FutureWarning: `torch.cuda.amp.autocast(args...)` is deprecated. Please use `torch.amp.autocast('cuda', args...)` instead.\n",
      "  with torch.cuda.amp.autocast():  # This implements mixed precision. Thats it!\n",
      "                                                                                                                    \r"
     ]
    },
    {
     "name": "stdout",
     "output_type": "stream",
     "text": [
      "\tTrain Cls. Acc 99.3319%\tTrain Cls. Loss 1.5224\t Learning Rate 0.0002000\n",
      "\tVal Cls. Acc 86.0570%\tVal Cls. Loss 2.2066\n"
     ]
    },
    {
     "name": "stderr",
     "output_type": "stream",
     "text": [
      "                                                        \r"
     ]
    },
    {
     "name": "stdout",
     "output_type": "stream",
     "text": [
      "{'ACC': np.float64(96.3), 'EER': 4.276985743379523, 'AUC': np.float64(98.83322196391632), 'TPRs': [('TPR@FPR=1e-4', np.float64(87.57637474541752)), ('TPR@FPR=5e-4', np.float64(87.57637474541752)), ('TPR@FPR=1e-3', np.float64(87.57637474541752)), ('TPR@FPR=5e-3', np.float64(90.020366598778)), ('TPR@FPR=5e-2', np.float64(96.13034623217924))]}\n",
      "Val Ret. Acc 96.3000%\n",
      "\n",
      "Epoch 38/50\n"
     ]
    },
    {
     "name": "stderr",
     "output_type": "stream",
     "text": [
      "Train:   0%|          | 0/1686 [00:00<?, ?it/s]/root/kaggle_face/scripts/train.py:31: FutureWarning: `torch.cuda.amp.autocast(args...)` is deprecated. Please use `torch.amp.autocast('cuda', args...)` instead.\n",
      "  with torch.cuda.amp.autocast():  # This implements mixed precision. Thats it!\n",
      "                                                                                                                    \r"
     ]
    },
    {
     "name": "stdout",
     "output_type": "stream",
     "text": [
      "\tTrain Cls. Acc 99.3595%\tTrain Cls. Loss 1.5178\t Learning Rate 0.0002000\n",
      "\tVal Cls. Acc 86.1402%\tVal Cls. Loss 2.2138\n"
     ]
    },
    {
     "name": "stderr",
     "output_type": "stream",
     "text": [
      "                                                        \r"
     ]
    },
    {
     "name": "stdout",
     "output_type": "stream",
     "text": [
      "{'ACC': np.float64(96.7), 'EER': 3.8696537678178635, 'AUC': np.float64(98.84482572353443), 'TPRs': [('TPR@FPR=1e-4', np.float64(87.37270875763747)), ('TPR@FPR=5e-4', np.float64(87.37270875763747)), ('TPR@FPR=1e-3', np.float64(87.37270875763747)), ('TPR@FPR=5e-3', np.float64(92.4643584521385)), ('TPR@FPR=5e-2', np.float64(96.33401221995926))]}\n",
      "Val Ret. Acc 96.7000%\n"
     ]
    }
   ],
   "source": [
    "clean_cache(DEVICE)\n",
    "gc.collect()\n",
    "\n",
    "trainer = Trainer(config[\"epochs\"], criterion, optimizer, scheduler, \n",
    "                       config[\"patience\"], config[\"save_every\"], name, \n",
    "                       start=start, best_val_acc=best_val_acc, \n",
    "                       device=DEVICE, scaler=scaler)\n",
    "trainer.fit(model, cls_train_loader, cls_val_loader, ver_val_loader, save_best=True, checkpoints=True, log_freq=20, early_stopping=False)"
   ]
  },
  {
   "cell_type": "code",
   "execution_count": 11,
   "metadata": {},
   "outputs": [
    {
     "name": "stderr",
     "output_type": "stream",
     "text": [
      "                                                          \r"
     ]
    }
   ],
   "source": [
    "# Predict\n",
    "scores = test_epoch_ver(model, ver_test_loader)\n",
    "\n",
    "with open(\"verification_submission_4.csv\", \"w+\") as f:\n",
    "    f.write(\"ID,Label\\n\")\n",
    "    for i in range(len(scores)):\n",
    "        f.write(\"{},{}\\n\".format(i, scores[i]))"
   ]
  },
  {
   "cell_type": "code",
   "execution_count": null,
   "metadata": {},
   "outputs": [],
   "source": [
    "\"----------------------------------------------------------------------\"\n",
    "\"----------------------------Resume Run--------------------------------\"\n",
    "\"----------------------------------------------------------------------\""
   ]
  },
  {
   "cell_type": "code",
   "execution_count": 10,
   "metadata": {},
   "outputs": [],
   "source": [
    "# Load checkpoint\n",
    "# checkpoint = torch.load(f\"../autodl-fs/checkpoints/{name}/model_epoch_18.pth\", weights_only=False)\n",
    "\n",
    "checkpoint = torch.load(\"../autodl-fs/checkpoints/ResNeXt47_5_run_2/model_epoch_18.pth\", weights_only=False)\n",
    "\n",
    "\n",
    "model.load_state_dict(checkpoint[\"model_state_dict\"])\n",
    "# optimizer.load_state_dict(checkpoint[\"optimizer_state_dict\"])\n",
    "# scheduler.load_state_dict(checkpoint[\"scheduler_state_dict\"])\n",
    "\n",
    "start=0\n",
    "best_val_acc = 0.1"
   ]
  },
  {
   "cell_type": "code",
   "execution_count": null,
   "metadata": {},
   "outputs": [],
   "source": [
    "wandb.init(\n",
    "    name    = name,\n",
    "    reinit  = True,\n",
    "    id      = 'y5hgwxz2',   ### ID for the run\n",
    "    resume  = \"must\", \n",
    "    project = \"HW2P2\",\n",
    "    group=f\"{model_name}\",\n",
    "    config=config\n",
    ")"
   ]
  },
  {
   "cell_type": "code",
   "execution_count": null,
   "metadata": {},
   "outputs": [],
   "source": [
    "with torch.no_grad():\n",
    "    outputs = model(inputs)\n",
    "    print(torch.isnan(outputs['feats']).any())\n",
    "\n",
    "for name, param in model.named_parameters():\n",
    "    if param.requires_grad:\n",
    "        print(f\"{name}: mean = {param.data.mean().item():.4f}, std = {param.data.std().item():.4f}\")"
   ]
  },
  {
   "cell_type": "code",
   "execution_count": null,
   "metadata": {},
   "outputs": [],
   "source": [
    "valid_epoch_ver(model, ver_val_loader, DEVICE)"
   ]
  },
  {
   "cell_type": "code",
   "execution_count": null,
   "metadata": {},
   "outputs": [],
   "source": [
    "batch = next(iter(ver_test_loader))\n",
    "print(\"Batch type:\", type(batch))\n",
    "print(\"Element type:\", type(batch[0]))\n",
    "if isinstance(batch[0], dict):\n",
    "    print(\"Element keys:\", batch[0].keys())\n",
    "else:\n",
    "    print(\"Batch element is not a dict.\")\n"
   ]
  },
  {
   "cell_type": "code",
   "execution_count": null,
   "metadata": {},
   "outputs": [],
   "source": [
    "sample = next(iter(ver_val_loader))\n",
    "\n",
    "# Print the number of items returned\n",
    "print(\"Number of returned items:\", len(sample))\n",
    "print(len(ver_val_loader))"
   ]
  }
 ],
 "metadata": {
  "kernelspec": {
   "display_name": "py311",
   "language": "python",
   "name": "python3"
  },
  "language_info": {
   "codemirror_mode": {
    "name": "ipython",
    "version": 3
   },
   "file_extension": ".py",
   "mimetype": "text/x-python",
   "name": "python",
   "nbconvert_exporter": "python",
   "pygments_lexer": "ipython3",
   "version": "3.11.11"
  }
 },
 "nbformat": 4,
 "nbformat_minor": 2
}
